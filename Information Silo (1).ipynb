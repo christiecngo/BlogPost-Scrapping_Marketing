{
 "cells": [
  {
   "cell_type": "code",
   "execution_count": 1,
   "metadata": {},
   "outputs": [],
   "source": [
    "import requests\n",
    "from bs4 import BeautifulSoup"
   ]
  },
  {
   "cell_type": "code",
   "execution_count": null,
   "metadata": {},
   "outputs": [],
   "source": [
    "reqs = requests.get(url)\n",
    "soup = BeautifulSoup(reqs.text, 'html.parser')\n",
    " \n",
    "urls = []\n",
    "for link in soup.find_all('a'):\n",
    "    print(link.get('href'))"
   ]
  },
  {
   "cell_type": "code",
   "execution_count": 150,
   "metadata": {},
   "outputs": [],
   "source": [
    "URL = \"BLOG NAME\"\n",
    "article_list = []\n",
    "final_links = []\n",
    "\n",
    "for page in range(1,59): # 58 pages total\n",
    "    req = requests.get(URL + 'page/' + str(page) + '/' )\n",
    "    soup = BeautifulSoup(req.text, 'html.parser')\n",
    "  \n",
    "    articles = soup.find_all('article')\n",
    "    for article in articles:\n",
    "        url = article.find_all('a')[1]['href']\n",
    "        if url in article_list:\n",
    "            continue\n",
    "        article_list.append(url)\n",
    "        page_req = requests.get(url)\n",
    "        \n",
    "        postSoup = BeautifulSoup(page_req.text, 'html.parser')\n",
    "        links = postSoup.find_all('a') # find all content\n",
    "        page_links = []\n",
    "        for link in links:\n",
    "            if 'class' in link.attrs:\n",
    "                if link.attrs['class'][0] == \"elementor-post__thumbnail__link\":\n",
    "                    break\n",
    "            if link.get('href'): # only company blogs, not already accounted for, and not general extensions\n",
    "                if 'company.com/blog' in link.get('href') and link.get('href') not in page_links and link.get('href') != 'https://company.com/blog/':\n",
    "                    if url not in link.get('href'): # not self-linking\n",
    "                        page_links.append(link.get('href'))\n",
    "        final_links.append(page_links)"
   ]
  },
  {
   "cell_type": "code",
   "execution_count": null,
   "metadata": {},
   "outputs": [],
   "source": [
    "article_list[-2]"
   ]
  },
  {
   "cell_type": "code",
   "execution_count": null,
   "metadata": {},
   "outputs": [],
   "source": [
    "final_links[-2]"
   ]
  },
  {
   "cell_type": "code",
   "execution_count": 3,
   "metadata": {},
   "outputs": [],
   "source": [
    "import pandas as pd"
   ]
  },
  {
   "cell_type": "code",
   "execution_count": 152,
   "metadata": {},
   "outputs": [],
   "source": [
    "info_links = pd.DataFrame()\n",
    "info_links['Article'] = article_list\n",
    "info_links['Links to'] = final_links"
   ]
  },
  {
   "cell_type": "code",
   "execution_count": 153,
   "metadata": {},
   "outputs": [
    {
     "data": {
      "text/plain": [
       "[]"
      ]
     },
     "execution_count": 153,
     "metadata": {},
     "output_type": "execute_result"
    }
   ],
   "source": [
    "info_links.iloc[7,1]"
   ]
  },
  {
   "cell_type": "code",
   "execution_count": 119,
   "metadata": {},
   "outputs": [],
   "source": [
    "check = requests.get('https://company.com/blog/blogpost/')\n",
    "checksoup = BeautifulSoup(check.text, 'html.parser')\n",
    "#external_span = checksoup.find_all('a', class_='elementor-post__thumbnail__link')\n",
    "#external_span2 = checksoup.find_all('a', class_= \"elementor-post__read-more\")\n",
    "#for i in external_span:\n",
    "  #  i.extract()\n",
    "#for j in external_span2:\n",
    "  #  j.extract()\n",
    "links2 = checksoup.find_all('a')"
   ]
  },
  {
   "cell_type": "code",
   "execution_count": null,
   "metadata": {},
   "outputs": [],
   "source": [
    "info_links.iloc[8,1]"
   ]
  },
  {
   "cell_type": "code",
   "execution_count": 155,
   "metadata": {},
   "outputs": [],
   "source": [
    "info_links.to_excel('output.xlsx')"
   ]
  }
 ],
 "metadata": {
  "kernelspec": {
   "display_name": "Python 3",
   "language": "python",
   "name": "python3"
  },
  "language_info": {
   "codemirror_mode": {
    "name": "ipython",
    "version": 3
   },
   "file_extension": ".py",
   "mimetype": "text/x-python",
   "name": "python",
   "nbconvert_exporter": "python",
   "pygments_lexer": "ipython3",
   "version": "3.8.5"
  }
 },
 "nbformat": 4,
 "nbformat_minor": 4
}
